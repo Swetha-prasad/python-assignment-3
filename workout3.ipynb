{
 "cells": [
  {
   "cell_type": "markdown",
   "metadata": {},
   "source": [
    "### Problem 1 (Temperature problem)"
   ]
  },
  {
   "cell_type": "markdown",
   "metadata": {},
   "source": [
    "#### Create a temperature class.Make two methods:\n",
    "#### 1.convertFrahrenheit - It will take celsius and will print it into Fahrenheit.\n",
    "#### 2.convertCelsius - It will take Fahrenheit and will convert it into Celsius"
   ]
  },
  {
   "cell_type": "code",
   "execution_count": 9,
   "metadata": {},
   "outputs": [
    {
     "name": "stdout",
     "output_type": "stream",
     "text": [
      "Temperature in Fahrenheit is: \n",
      "53.6\n"
     ]
    }
   ],
   "source": [
    "celsius= 12  \n",
    "fahrenheit= ((celsius*9)/5)+32  \n",
    "print(\"Temperature in Fahrenheit is: \");  \n",
    "print(fahrenheit);  "
   ]
  },
  {
   "cell_type": "code",
   "execution_count": 10,
   "metadata": {},
   "outputs": [
    {
     "name": "stdout",
     "output_type": "stream",
     "text": [
      "5.00 Celsius is: 41.00 Fahrenheit\n"
     ]
    }
   ],
   "source": [
    "celsius = float(input(\"Enter temperature in celsius: \"))\n",
    "fahrenheit = (celsius * 9/5) + 32\n",
    "print('%.2f Celsius is: %0.2f Fahrenheit' %(celsius, fahrenheit))"
   ]
  },
  {
   "cell_type": "markdown",
   "metadata": {},
   "source": [
    "### Problem 2 (Time Problem)"
   ]
  },
  {
   "cell_type": "markdown",
   "metadata": {},
   "source": [
    "#### Create a Time class initialize it with hours and minutes.\n",
    "##### 1.Make a method addTime which should take two time object and add them.\n",
    "##### 2.Make a method displayTime which should print the time\n",
    "##### 3.Make a method DisplayMinute which should display the total minutes in the Time should display 62 minute"
   ]
  },
  {
   "cell_type": "code",
   "execution_count": 1,
   "metadata": {},
   "outputs": [],
   "source": [
    "import math  \n",
    "class Time:\n",
    "    def __init__(self,hours,minutes):\n",
    "        self.hours = hours\n",
    "        self.minutes = minutes\n",
    "        #self.hour = 0\n",
    "        #self.mins = 0\n",
    "        \n",
    "    def addTime(self,ob):\n",
    "        \n",
    "        if(ob.hours < 1) or (self.hours < 1):\n",
    "            \n",
    "            a = (ob.hours + self.hours)*60\n",
    "            b = (ob.minutes + self.minutes) - 60\n",
    "            h = (a + b)/60\n",
    "            hour = math.ceil(h)\n",
    "            \n",
    "            if(self.hours < 1):\n",
    "                mins = self.hours + b\n",
    "                \n",
    "            else:\n",
    "                mins = ob.hours + b\n",
    "                \n",
    "                \n",
    "        else:\n",
    "            hour = ob.hours + self.hours\n",
    "            mins = ob.minutes + self.minutes\n",
    "            \n",
    "        print(hour,\"hr and \",mins,\"min\")\n",
    "            \n",
    "    def displayTime(self):\n",
    "        print(self.hours,\"hr and \",self.minutes,\"min\")\n",
    "        \n",
    "    def DisplayMinute(self):\n",
    "        h = self.hours * 60\n",
    "        total_min = h + self.minutes\n",
    "        return total_min"
   ]
  }
 ],
 "metadata": {
  "kernelspec": {
   "display_name": "Python 3.10.7 64-bit",
   "language": "python",
   "name": "python3"
  },
  "language_info": {
   "codemirror_mode": {
    "name": "ipython",
    "version": 3
   },
   "file_extension": ".py",
   "mimetype": "text/x-python",
   "name": "python",
   "nbconvert_exporter": "python",
   "pygments_lexer": "ipython3",
   "version": "3.10.7"
  },
  "orig_nbformat": 4,
  "vscode": {
   "interpreter": {
    "hash": "c3f3f33c3a7fd2cf5ec716589a85524249bf75eeaef8fd397b9ff8245565d1f3"
   }
  }
 },
 "nbformat": 4,
 "nbformat_minor": 2
}
